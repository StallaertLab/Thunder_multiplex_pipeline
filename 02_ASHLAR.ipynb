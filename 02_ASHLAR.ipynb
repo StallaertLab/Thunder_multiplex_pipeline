{
 "cells": [
  {
   "cell_type": "markdown",
   "metadata": {},
   "source": [
    "## Run ASHLAR to assemble and align the tiles."
   ]
  },
  {
   "cell_type": "code",
   "execution_count": 1,
   "metadata": {},
   "outputs": [],
   "source": [
    "import os\n",
    "import json\n",
    "import subprocess"
   ]
  },
  {
   "cell_type": "code",
   "execution_count": 2,
   "metadata": {},
   "outputs": [],
   "source": [
    "# define input and output pathways\n",
    "input_dir = r''\n",
    "\n",
    "dict_path = r''\n",
    "\n",
    "output_dir = r''"
   ]
  },
  {
   "cell_type": "code",
   "execution_count": null,
   "metadata": {},
   "outputs": [],
   "source": [
    "# use a dictionary to map round and channel to the corresponding channel name\n",
    "# this is used to create the output file name\n",
    "\n",
    "# read dictionary from json file\n",
    "\n",
    "signal_dict = json.load(open(dict_path))\n",
    "\n",
    "# or specify manually\n",
    "# '0_ 0' corresponds to round 0, channel 0 (space is added to match the format of the input file names)\n",
    "#signal_dict = {} # example {'0_ 0':'DAPI1','0_ 1':'RB','0_ 2':'p21','0_ 3':'pH3','1_ 0':'DAPI2','1_ 1':'Cdc25c','1_ 2':'pCDK1','1_ 3':'Fib'}"
   ]
  },
  {
   "cell_type": "code",
   "execution_count": null,
   "metadata": {},
   "outputs": [],
   "source": [
    "# specify wells to process\n",
    "well_list = [''] # ex. ['A1']\n",
    "\n",
    "# or run for all wells\n",
    "#well_list = list(set([x.split('_')[0] for x in os.listdir(input_dir) if 'tif' in x]))\n",
    "\n",
    "print(len(well_list))\n",
    "well_list"
   ]
  },
  {
   "cell_type": "code",
   "execution_count": null,
   "metadata": {},
   "outputs": [],
   "source": [
    "# specify rounds to process\n",
    "round_list = [] \n",
    "\n",
    "# or run for all rounds\n",
    "round_list = sorted(list(set([x.split('_')[2] for x in os.listdir(input_dir) if 'tif' in x])))\n",
    "\n",
    "print(len(round_list))\n",
    "round_list"
   ]
  },
  {
   "cell_type": "code",
   "execution_count": 17,
   "metadata": {},
   "outputs": [],
   "source": [
    "for label in well_list:\n",
    "    \n",
    "    # Construct the file series arguments for all rounds\n",
    "    fileseries_args = [f\"fileseries|{input_dir}|pattern={label}_r_{round_num}_ch_{{channel:2}}_{{series:2}}.tif|overlap=0.105|width=9|height=9|layout=snake|pixel_size=0.325\" for round_num in round_list]\n",
    "\n",
    "    # Create the full command as a list of arguments\n",
    "    command = [\n",
    "        'ashlar',\n",
    "        *fileseries_args,\n",
    "        '--output', f\"{output_dir}\\\\{label}_ashlar_{{cycle:2}}_{{channel:2}}.tif\",\n",
    "        '--maximum-shift', '200',\n",
    "        '--align-channel', '0'\n",
    "    ]\n",
    "\n",
    "    # Execute the command using subprocess\n",
    "    subprocess.run(command)"
   ]
  },
  {
   "cell_type": "markdown",
   "metadata": {},
   "source": [
    "### Rename the output files to include the channel name"
   ]
  },
  {
   "cell_type": "code",
   "execution_count": null,
   "metadata": {},
   "outputs": [],
   "source": [
    "im_list = os.listdir(output_dir)\n",
    "\n",
    "for im_name in im_list:\n",
    "    signal_name = signal_dict[('_').join(im_name.split('_')[-2:])[1:-4]]\n",
    "    old_path = os.path.join(output_dir,im_name)  \n",
    "    new_name = im_name.split('_')[:2]\n",
    "    new_name.append(signal_name+'.tif')  \n",
    "    new_path = os.path.join(output_dir,'_'.join(new_name))\n",
    "    print(new_path)\n",
    "    os.rename(old_path, new_path)"
   ]
  }
 ],
 "metadata": {
  "kernelspec": {
   "display_name": "ashlar",
   "language": "python",
   "name": "python3"
  },
  "language_info": {
   "codemirror_mode": {
    "name": "ipython",
    "version": 3
   },
   "file_extension": ".py",
   "mimetype": "text/x-python",
   "name": "python",
   "nbconvert_exporter": "python",
   "pygments_lexer": "ipython3",
   "version": "3.10.14"
  }
 },
 "nbformat": 4,
 "nbformat_minor": 2
}
