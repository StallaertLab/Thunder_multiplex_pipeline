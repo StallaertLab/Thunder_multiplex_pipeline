{
 "cells": [
  {
   "cell_type": "markdown",
   "metadata": {},
   "source": [
    "## Extract tiles from a multiplexed Thunder experiment\n",
    "\n",
    "The goal of this script is to resave individual tiles from a lif file as tiffs to be compatible with assembly using ASHLAR algorithm.\n",
    "\n",
    "The tiles will be saved in a format:\n",
    "\n",
    "WELL_r_ROUND_ch_CHANNEL_TILE\n",
    "\n",
    "Depending on the naming convention you may need to adjust name parsing to get the right images from the lif file and clean the string for saving."
   ]
  },
  {
   "cell_type": "code",
   "execution_count": 2,
   "metadata": {},
   "outputs": [],
   "source": [
    "import os\n",
    "import json\n",
    "from readlif.reader import LifFile\n",
    "from tifffile import imwrite\n",
    "\n",
    "from thunder_functions import create_tiles_99"
   ]
  },
  {
   "cell_type": "code",
   "execution_count": 1,
   "metadata": {},
   "outputs": [],
   "source": [
    "# full path to the lif file\n",
    "file_path = r'R:\\Narayanan\\202409_Bcell\\20240716_Bcell.lif'\n",
    "\n",
    "# path to the folder where the tiff files will be saved\n",
    "dir_save = r''\n",
    "\n",
    "# path to the file to store the dictionary\n",
    "dict_path = r''\n",
    "\n",
    "# expected size of a single frame\n",
    "frame_size = 2048"
   ]
  },
  {
   "cell_type": "code",
   "execution_count": 3,
   "metadata": {},
   "outputs": [],
   "source": [
    "# open lif image\n",
    "image_stack = LifFile(file_path)"
   ]
  },
  {
   "cell_type": "code",
   "execution_count": null,
   "metadata": {},
   "outputs": [],
   "source": [
    "# check the content of the lif file\n",
    "\n",
    "img_list = [[image.name, image.dims] for image in image_stack.get_iter_image()]\n",
    "print(len(img_list))\n",
    "img_list"
   ]
  },
  {
   "cell_type": "code",
   "execution_count": null,
   "metadata": {},
   "outputs": [],
   "source": [
    "# wells to be processed\n",
    "\n",
    "well_list= list(set(['/'.join(image.name.split('/')[-2:]) for image in image_stack.get_iter_image() if not ('Merged' in image.name or '5X' in image.name)])) # get all wells\n",
    "well_list = sorted(well_list, key=lambda x: (x.split('/')[0], int(x.split('/')[1])))\n",
    "# well_list = []# example: ['D/3','D/9'] # specify manually\n",
    "well_list"
   ]
  },
  {
   "cell_type": "code",
   "execution_count": null,
   "metadata": {},
   "outputs": [],
   "source": [
    "# rounds to be processed\n",
    "\n",
    "round_list = list(set([image.name.split('_')[0] for image in image_stack.get_iter_image() if not (('Merged' in image.name) or ('5X' in image.name))])) # get all wells\n",
    "round_list = sorted(round_list, key=lambda x: int(x[1:]))\n",
    "#round_list = []# example: ['R1','R2'] # specify manually\n",
    "round_list"
   ]
  },
  {
   "cell_type": "code",
   "execution_count": null,
   "metadata": {},
   "outputs": [],
   "source": [
    "for well in well_list:\n",
    "\n",
    "    for r_int,r in enumerate(round_list):\n",
    "\n",
    "        # print info about what is found\n",
    "        img_list_names = [image.name for image in image_stack.get_iter_image() if ((r+'_' in image.name) and (well in image.name) and not('Merged' in image.name))]\n",
    "        print(img_list_names)\n",
    "        ch_list = [image.channels for image in image_stack.get_iter_image() if ((r+'_' in image.name) and (well in image.name) and not('Merged' in image.name))]\n",
    "        print(ch_list)\n",
    "\n",
    "        # get images\n",
    "        img_list = [image for image in image_stack.get_iter_image() if ((r+'_' in image.name) and (well in image.name) and not('Merged' in image.name))]\n",
    "\n",
    "        # extract tiles\n",
    "        t_list = create_tiles_99(img_list, ch_list)\n",
    "\n",
    "        # save tiles\n",
    "        for ind,t in enumerate(t_list):\n",
    "\n",
    "            for ch in range(sum(ch_list)):\n",
    "\n",
    "                imwrite(os.path.join(dir_save,f\"{well.replace('/','')}_r_{str(r[1:]).zfill(2)}_ch_{str(ch).zfill(2)}_{str(ind).zfill(2)}.tif\"), t[ch,:,:].astype('uint16'))\n"
   ]
  },
  {
   "cell_type": "markdown",
   "metadata": {},
   "source": [
    "### Generate experiment distionary"
   ]
  },
  {
   "cell_type": "code",
   "execution_count": null,
   "metadata": {},
   "outputs": [],
   "source": [
    "my_dict = dict()\n",
    "\n",
    "for well in well_list:\n",
    "\n",
    "    for r_int,r in enumerate(round_list):\n",
    "\n",
    "        # print info about what is found\n",
    "        img_list_names = [image.name for image in image_stack.get_iter_image() if ((r+'_' in image.name) and (well in image.name) and not('Merged' in image.name))]\n",
    "        print(img_list_names)\n",
    "        ch_list = [image.channels for image in image_stack.get_iter_image() if ((r+'_' in image.name) and (well in image.name) and not('Merged' in image.name))]\n",
    "        print(ch_list)\n",
    "\n",
    "        channel_names = []\n",
    "        for im_name in img_list_names:\n",
    "\n",
    "            # get the channel names\n",
    "            channel_round_names = im_name.split('/')[0].split('_')[1:]\n",
    "\n",
    "            for ch in channel_round_names:\n",
    "                ch = ch.split('-')[0] # remove this one to keep dyes names\n",
    "                if ch == 'DAPI':\n",
    "                    ch = f'DAPI{str(r_int).zfill(2)}'\n",
    "                    \n",
    "\n",
    "                channel_names.append(ch)\n",
    "            \n",
    "        for i,ch in enumerate(channel_names):\n",
    "            print(f'{r_int}_ {i}: {ch}')\n",
    "            my_dict[f'{r_int}_ {i}'] = ch\n",
    "\n",
    "# save dictionary\n",
    "with open(dict_path, 'w') as file:\n",
    "     file.write(json.dumps(my_dict))"
   ]
  }
 ],
 "metadata": {
  "kernelspec": {
   "display_name": "lif-env",
   "language": "python",
   "name": "python3"
  },
  "language_info": {
   "codemirror_mode": {
    "name": "ipython",
    "version": 3
   },
   "file_extension": ".py",
   "mimetype": "text/x-python",
   "name": "python",
   "nbconvert_exporter": "python",
   "pygments_lexer": "ipython3",
   "version": "3.10.14"
  }
 },
 "nbformat": 4,
 "nbformat_minor": 2
}
